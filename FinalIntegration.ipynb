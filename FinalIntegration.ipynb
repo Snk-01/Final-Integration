{
 "cells": [
  {
   "cell_type": "markdown",
   "metadata": {},
   "source": [
    "# Import the necessary Libraries"
   ]
  },
  {
   "cell_type": "code",
   "execution_count": 1,
   "metadata": {},
   "outputs": [],
   "source": [
    "from sklearn.decomposition import PCA\n",
    "from sklearn.model_selection import train_test_split\n",
    "from sklearn.svm import SVC\n",
    "from sklearn.metrics import accuracy_score, confusion_matrix\n",
    "from PIL import Image\n",
    "import os\n",
    "import numpy as np\n",
    "from sklearn.linear_model import LogisticRegression\n",
    "from sklearn.neighbors import KNeighborsClassifier\n",
    "from sklearn.naive_bayes import GaussianNB\n",
    "from sklearn.pipeline import Pipeline\n",
    "import seaborn as sns\n",
    "import matplotlib.pyplot as plt\n",
    "import joblib\n",
    "import tensorflow as tf\n",
    "from tensorflow.keras.preprocessing import image"
   ]
  },
  {
   "cell_type": "markdown",
   "metadata": {},
   "source": [
    "# Defining some constants"
   ]
  },
  {
   "cell_type": "code",
   "execution_count": 2,
   "metadata": {},
   "outputs": [],
   "source": [
    "diseaseType = ['Dementia dataset', 'Breast Cancer dataset', 'Pneumonia dataset', 'Retinal Disease dataset', 'Skin Disease dataset']\n",
    "class_names = [\n",
    "    ['Mild Demented', 'Moderate Demented', 'Non Demented', 'Very Mild Demented'],\n",
    "    ['Benign', 'Malignant', 'Normal'],\n",
    "    ['NORMAL', 'PNEUMONIA'],\n",
    "    ['ARMD', 'DN', 'DR', 'MH', 'NORMAL', 'ODC'],\n",
    "    ['Actinic keratosis', 'Atopic Dermatitis', 'Benign Keratosis', 'Dermatofibroma', 'Melanocytic nevus', 'Melanoma', 'Squamous cell carcinoma', 'Tinea Ringworm', 'Vascular lesion']\n",
    "]"
   ]
  },
  {
   "cell_type": "code",
   "execution_count": 3,
   "metadata": {},
   "outputs": [],
   "source": [
    "# resolution of images on which the models are trained\n",
    "resolution=[\n",
    "    (128, 128),\n",
    "    (128, 128),\n",
    "    (256, 256),\n",
    "    (224, 224),\n",
    "    (224, 224)\n",
    "]"
   ]
  },
  {
   "cell_type": "markdown",
   "metadata": {},
   "source": [
    "# Directories of the  random images to be tested"
   ]
  },
  {
   "cell_type": "code",
   "execution_count": 9,
   "metadata": {},
   "outputs": [],
   "source": [
    "img_dirs=[\n",
    "          'benign.jpg',\n",
    "          'mild.jpg',\n",
    "          'AK.jpg',\n",
    "          'MH.jpg',\n",
    "          'pneu.jpg',\n",
    "          'normallung.jpg',\n",
    "          'Dma.jpg',\n",
    "          'normal.jpg',\n",
    "          'N1.jpg',\n",
    "          'ARMD1.jpg'\n",
    "        ]\n",
    "img_labels=['Benign Breast Cancer', 'Mild Dementia', 'Skin Disease: Actinic keratosis','Retinal Disease: MH', 'Pneumonic Lungs', 'Normal Lung', 'Skin disease DMA', 'No Problem in eye', 'No Problem in eye', 'Retinal Disease: ARMD']"
   ]
  },
  {
   "cell_type": "markdown",
   "metadata": {},
   "source": [
    "# Loading the models"
   ]
  },
  {
   "cell_type": "code",
   "execution_count": 5,
   "metadata": {},
   "outputs": [
    {
     "name": "stderr",
     "output_type": "stream",
     "text": [
      "c:\\Users\\Sounak\\AppData\\Local\\Programs\\Python\\Python38\\lib\\site-packages\\sklearn\\base.py:318: UserWarning: Trying to unpickle estimator SVC from version 1.3.0 when using version 1.2.2. This might lead to breaking code or invalid results. Use at your own risk. For more info please refer to:\n",
      "https://scikit-learn.org/stable/model_persistence.html#security-maintainability-limitations\n",
      "  warnings.warn(\n",
      "c:\\Users\\Sounak\\AppData\\Local\\Programs\\Python\\Python38\\lib\\site-packages\\sklearn\\base.py:318: UserWarning: Trying to unpickle estimator PCA from version 1.3.0 when using version 1.2.2. This might lead to breaking code or invalid results. Use at your own risk. For more info please refer to:\n",
      "https://scikit-learn.org/stable/model_persistence.html#security-maintainability-limitations\n",
      "  warnings.warn(\n"
     ]
    },
    {
     "data": {
      "text/plain": [
       "array([0, 1, 2, 3, 4])"
      ]
     },
     "execution_count": 5,
     "metadata": {},
     "output_type": "execute_result"
    }
   ],
   "source": [
    "diseaseTypeModel=joblib.load('model.joblib')\n",
    "pcamodel=joblib.load('pca_model.joblib')\n",
    "diseaseTypeModel.classes_"
   ]
  },
  {
   "cell_type": "code",
   "execution_count": 6,
   "metadata": {},
   "outputs": [],
   "source": [
    "diseaseModels = [\n",
    "    tf.keras.models.load_model('BrainMRIcnn'),\n",
    "    tf.keras.models.load_model('BreastCancerModel'),\n",
    "    joblib.load('pneumoniaSVM.pkl'),\n",
    "    tf.keras.models.load_model('RetinalDiseaseCNN'),\n",
    "    tf.keras.models.load_model('SkinDiseaseModel')\n",
    "]"
   ]
  },
  {
   "cell_type": "markdown",
   "metadata": {},
   "source": [
    "# Predicting the Diseases"
   ]
  },
  {
   "cell_type": "code",
   "execution_count": 7,
   "metadata": {},
   "outputs": [],
   "source": [
    "def findDiseaseType(fname):\n",
    "    img = Image.open(fname)\n",
    "\n",
    "    g_img = img.convert('L')    \n",
    "    g_img = g_img.resize((64, 64)) # 64 is the size we trained the model on\n",
    "    img_array = np.array(g_img).flatten()\n",
    "\n",
    "    img_array=np.expand_dims(img_array, axis=0)\n",
    "\n",
    "    img_pca=pcamodel.transform(img_array)\n",
    "    predicted_label=diseaseTypeModel.predict(img_pca)\n",
    "\n",
    "    return predicted_label[0]"
   ]
  },
  {
   "cell_type": "code",
   "execution_count": 12,
   "metadata": {},
   "outputs": [
    {
     "name": "stdout",
     "output_type": "stream",
     "text": [
      "The type of disease detected is: Breast Cancer dataset\n",
      "1/1 [==============================] - 0s 48ms/step\n",
      "Predicted label is :  Benign\n",
      "Original label is :  Benign Breast Cancer \n",
      "\n",
      "\n",
      "The type of disease detected is: Dementia dataset\n",
      "1/1 [==============================] - 0s 20ms/step\n",
      "Predicted label is :  Non Demented\n",
      "Original label is :  Mild Dementia \n",
      "\n",
      "\n",
      "The type of disease detected is: Skin Disease dataset\n",
      "1/1 [==============================] - 0s 113ms/step\n",
      "Predicted label is :  Actinic keratosis\n",
      "Original label is :  Skin Disease AK \n",
      "\n",
      "\n",
      "The type of disease detected is: Retinal Disease dataset\n",
      "1/1 [==============================] - 0s 99ms/step\n",
      "Predicted label is :  MH\n",
      "Original label is :  Retinal Disease: MH \n",
      "\n",
      "\n",
      "The type of disease detected is: Pneumonia dataset\n",
      "Predicted label is :  NORMAL\n",
      "Original label is :  Pneumonic Lungs \n",
      "\n",
      "\n",
      "The type of disease detected is: Pneumonia dataset\n",
      "Predicted label is :  NORMAL\n",
      "Original label is :  Normal Lung \n",
      "\n",
      "\n",
      "The type of disease detected is: Skin Disease dataset\n",
      "1/1 [==============================] - 0s 100ms/step\n",
      "Predicted label is :  Dermatofibroma\n",
      "Original label is :  Skin disease DMA \n",
      "\n",
      "\n",
      "The type of disease detected is: Retinal Disease dataset\n",
      "1/1 [==============================] - 0s 135ms/step\n",
      "Predicted label is :  NORMAL\n",
      "Original label is :  No Problem in eye \n",
      "\n",
      "\n",
      "The type of disease detected is: Retinal Disease dataset\n",
      "1/1 [==============================] - 0s 116ms/step\n",
      "Predicted label is :  NORMAL\n",
      "Original label is :  No Problem in eye \n",
      "\n",
      "\n",
      "The type of disease detected is: Retinal Disease dataset\n",
      "1/1 [==============================] - 0s 123ms/step\n",
      "Predicted label is :  ARMD\n",
      "Original label is :  Retinal Disease: ARMD \n",
      "\n",
      "\n"
     ]
    }
   ],
   "source": [
    "for filename, original_label in zip(img_dirs, img_labels):\n",
    "    predicted_label=findDiseaseType(filename)\n",
    "    print (\"The type of disease detected is:\", diseaseType[predicted_label])\n",
    "\n",
    "    _img = image.load_img(filename, target_size=resolution[predicted_label])\n",
    "\n",
    "    if predicted_label==2: # flattenning the image since the Dimentia is trained on ML model and not on CNN model\n",
    "        _img = np.array(_img)\n",
    "        _img = _img.flatten()\n",
    "\n",
    "    _img_array = np.expand_dims(_img, axis=0)\n",
    "    pld=diseaseModels[predicted_label].predict(_img_array)\n",
    "    label = np.argmax(pld)\n",
    "\n",
    "    print(\"Predicted label is : \", class_names[predicted_label][label])\n",
    "    print(\"Original label is : \", original_label,'\\n\\n')"
   ]
  }
 ],
 "metadata": {
  "kernelspec": {
   "display_name": "Python 3",
   "language": "python",
   "name": "python3"
  },
  "language_info": {
   "codemirror_mode": {
    "name": "ipython",
    "version": 3
   },
   "file_extension": ".py",
   "mimetype": "text/x-python",
   "name": "python",
   "nbconvert_exporter": "python",
   "pygments_lexer": "ipython3",
   "version": "3.8.6"
  }
 },
 "nbformat": 4,
 "nbformat_minor": 2
}
